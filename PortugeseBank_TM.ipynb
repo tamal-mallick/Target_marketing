{
  "nbformat": 4,
  "nbformat_minor": 0,
  "metadata": {
    "colab": {
      "name": "Assignment 2_TM.ipynb",
      "provenance": [],
      "collapsed_sections": []
    },
    "kernelspec": {
      "name": "python3",
      "display_name": "Python 3"
    },
    "accelerator": "GPU"
  },
  "cells": [
    {
      "cell_type": "code",
      "metadata": {
        "id": "w1hDk9hDvOH7",
        "colab": {
          "base_uri": "https://localhost:8080/",
          "height": 50
        },
        "outputId": "9462bd55-af0d-4b4d-ac7f-9179fb2fab37"
      },
      "source": [
        "import pandas as pd\n",
        "from sklearn.preprocessing import label_binarize\n",
        "import numpy as np\n",
        "from sklearn.model_selection import train_test_split\n",
        "from sklearn.ensemble import RandomForestClassifier\n",
        "from sklearn.tree import DecisionTreeClassifier\n",
        "from sklearn.model_selection import GridSearchCV\n",
        "from sklearn.model_selection import RandomizedSearchCV\n",
        "from sklearn.model_selection import cross_val_score\n",
        "from sklearn.metrics import classification_report, confusion_matrix\n",
        "from sklearn.ensemble import GradientBoostingClassifier\n",
        "from sklearn.preprocessing import OneHotEncoder\n",
        "from sklearn.datasets import load_iris\n",
        "from sklearn import tree\n",
        "from sklearn import metrics #Import scikit-learn metrics module for accuracy calculation\n",
        "\n",
        "import warnings\n",
        "warnings.filterwarnings(\"ignore\")\n",
        "#Please ignore the warnings with version change\n",
        "\n",
        "from google.colab import drive\n",
        "drive.mount('/gdrive')\n",
        "#Change current working directory to gdrive\n",
        "%cd /gdrive\n",
        "\n"
      ],
      "execution_count": null,
      "outputs": [
        {
          "output_type": "stream",
          "text": [
            "Drive already mounted at /gdrive; to attempt to forcibly remount, call drive.mount(\"/gdrive\", force_remount=True).\n",
            "/gdrive\n"
          ],
          "name": "stdout"
        }
      ]
    },
    {
      "cell_type": "code",
      "metadata": {
        "id": "BMwGQK7KAd7T",
        "colab": {
          "base_uri": "https://localhost:8080/",
          "height": 50
        },
        "outputId": "c1985747-a775-43fd-ccf4-f17a77790d42"
      },
      "source": [
        "trainfile = r'/gdrive/My Drive/ASU_MSBA/CIS_508/Assignment2/TM/Portugese Bank Data - TRAIN.csv'\n",
        "trainData = pd.read_csv(trainfile) #creates a dataframe\n",
        "testfile = r'/gdrive/My Drive/ASU_MSBA/CIS_508/Assignment2/TM/Portugese Bank Data - TEST.csv'\n",
        "testData = pd.read_csv(testfile)  #creates a dataframe\n",
        "\n",
        "\n",
        "print(trainData.shape)\n",
        "print(testData.shape)\n",
        "\n"
      ],
      "execution_count": null,
      "outputs": [
        {
          "output_type": "stream",
          "text": [
            "(4521, 17)\n",
            "(45211, 17)\n"
          ],
          "name": "stdout"
        }
      ]
    },
    {
      "cell_type": "code",
      "metadata": {
        "id": "yeAborUUmG6l"
      },
      "source": [
        "trainData.info()"
      ],
      "execution_count": null,
      "outputs": []
    },
    {
      "cell_type": "code",
      "metadata": {
        "id": "iiAqyaetmG9u"
      },
      "source": [
        "testData.info()"
      ],
      "execution_count": null,
      "outputs": []
    },
    {
      "cell_type": "code",
      "metadata": {
        "id": "thOtqIyKP0H9",
        "colab": {
          "base_uri": "https://localhost:8080/",
          "height": 50
        },
        "outputId": "0e399d0b-99f9-40d5-c207-88bdadfea0d0"
      },
      "source": [
        "#To get list of names of all Columns from a dataframe\n",
        "\n",
        "TrainCols = list(trainData.columns.values)\n",
        "TestCols = list(testData.columns.values)\n",
        "print(TrainCols)\n",
        "print(TestCols)"
      ],
      "execution_count": null,
      "outputs": [
        {
          "output_type": "stream",
          "text": [
            "['age', 'job', 'marital', 'education', 'default', 'balance', 'housing', 'loan', 'contact', 'day', 'month', 'duration', 'campaign', 'pdays', 'previous', 'poutcome', 'y']\n",
            "['age', 'job', 'marital', 'education', 'default', 'balance', 'housing', 'loan', 'contact', 'day', 'month', 'duration', 'campaign', 'pdays', 'previous', 'poutcome', 'y']\n"
          ],
          "name": "stdout"
        }
      ]
    },
    {
      "cell_type": "code",
      "metadata": {
        "id": "Zb-DiyYYmHCu",
        "colab": {
          "base_uri": "https://localhost:8080/",
          "height": 118
        },
        "outputId": "22f2b2b2-97f6-4df1-a7ee-6e78fa66d43e"
      },
      "source": [
        "# Seperate Target column from Train Data\n",
        "Xtrain = trainData[TrainCols[0:len(TrainCols)-1]].copy()\n",
        "Ytrain = trainData[['y']].copy()\n",
        "print(\"Train Set shape:\")\n",
        "print(Xtrain.shape)\n",
        "print(Ytrain.shape)\n",
        "Xtest = testData[TestCols[0:len(TestCols)-1]].copy()\n",
        "Ytest = testData[['y']].copy()\n",
        "print(\"Test Set shape:\")\n",
        "print(Xtest.shape)\n",
        "print(Ytest.shape)"
      ],
      "execution_count": null,
      "outputs": [
        {
          "output_type": "stream",
          "text": [
            "Train Set shape:\n",
            "(4521, 16)\n",
            "(4521, 1)\n",
            "Test Set shape:\n",
            "(45211, 16)\n",
            "(45211, 1)\n"
          ],
          "name": "stdout"
        }
      ]
    },
    {
      "cell_type": "code",
      "metadata": {
        "id": "1fB3uOnrQleu",
        "colab": {
          "base_uri": "https://localhost:8080/",
          "height": 84
        },
        "outputId": "a77e72b1-ca24-4aed-a825-8c9ee9ad2ad8"
      },
      "source": [
        "#DO ONE-HOT ENCODING ON CATEGORICAL VARIABLES==============================================\n",
        "#The below function returns a list of categorical features which are not numeric. \n",
        "cat_cols = Xtrain.select_dtypes(exclude=['float','int']).columns #selecting the categorical columns\n",
        "print(cat_cols.shape)\n",
        "print(cat_cols)\n"
      ],
      "execution_count": null,
      "outputs": [
        {
          "output_type": "stream",
          "text": [
            "(9,)\n",
            "Index(['job', 'marital', 'education', 'default', 'housing', 'loan', 'contact',\n",
            "       'month', 'poutcome'],\n",
            "      dtype='object')\n"
          ],
          "name": "stdout"
        }
      ]
    },
    {
      "cell_type": "code",
      "metadata": {
        "id": "pPVtdv1jmHFU"
      },
      "source": [
        "#List of Categorical Features\n",
        "categoricalFeatures = ['job', 'marital', 'education', 'default', 'housing', 'loan', 'contact',\n",
        "       'month', 'poutcome']\n"
      ],
      "execution_count": null,
      "outputs": []
    },
    {
      "cell_type": "code",
      "metadata": {
        "id": "lyattYm7mHH5",
        "colab": {
          "base_uri": "https://localhost:8080/",
          "height": 232
        },
        "outputId": "7c168101-03a5-44f0-d634-b830bb703db7"
      },
      "source": [
        "# OneHotEncoding on Train (fit & transform)\n",
        "# OneHotEncoding is to be done on Categorical variables.\n",
        "ohe = OneHotEncoder(handle_unknown='ignore',sparse=False)\n",
        "Xcat = pd.DataFrame(ohe.fit_transform(Xtrain[categoricalFeatures]),columns=ohe.get_feature_names(),index=Xtrain.index)\n",
        "Xtrain = pd.concat([Xtrain,Xcat],axis=1)\n",
        "Xtrain.drop(labels=categoricalFeatures,axis=1,inplace=True)\n",
        "Xtrain.sample(5)"
      ],
      "execution_count": null,
      "outputs": [
        {
          "output_type": "execute_result",
          "data": {
            "text/html": [
              "<div>\n",
              "<style scoped>\n",
              "    .dataframe tbody tr th:only-of-type {\n",
              "        vertical-align: middle;\n",
              "    }\n",
              "\n",
              "    .dataframe tbody tr th {\n",
              "        vertical-align: top;\n",
              "    }\n",
              "\n",
              "    .dataframe thead th {\n",
              "        text-align: right;\n",
              "    }\n",
              "</style>\n",
              "<table border=\"1\" class=\"dataframe\">\n",
              "  <thead>\n",
              "    <tr style=\"text-align: right;\">\n",
              "      <th></th>\n",
              "      <th>age</th>\n",
              "      <th>balance</th>\n",
              "      <th>day</th>\n",
              "      <th>duration</th>\n",
              "      <th>campaign</th>\n",
              "      <th>pdays</th>\n",
              "      <th>previous</th>\n",
              "      <th>x0_admin.</th>\n",
              "      <th>x0_blue-collar</th>\n",
              "      <th>x0_entrepreneur</th>\n",
              "      <th>x0_housemaid</th>\n",
              "      <th>x0_management</th>\n",
              "      <th>x0_retired</th>\n",
              "      <th>x0_self-employed</th>\n",
              "      <th>x0_services</th>\n",
              "      <th>x0_student</th>\n",
              "      <th>x0_technician</th>\n",
              "      <th>x0_unemployed</th>\n",
              "      <th>x0_unknown</th>\n",
              "      <th>x1_divorced</th>\n",
              "      <th>x1_married</th>\n",
              "      <th>x1_single</th>\n",
              "      <th>x2_primary</th>\n",
              "      <th>x2_secondary</th>\n",
              "      <th>x2_tertiary</th>\n",
              "      <th>x2_unknown</th>\n",
              "      <th>x3_no</th>\n",
              "      <th>x3_yes</th>\n",
              "      <th>x4_no</th>\n",
              "      <th>x4_yes</th>\n",
              "      <th>x5_no</th>\n",
              "      <th>x5_yes</th>\n",
              "      <th>x6_cellular</th>\n",
              "      <th>x6_telephone</th>\n",
              "      <th>x6_unknown</th>\n",
              "      <th>x7_apr</th>\n",
              "      <th>x7_aug</th>\n",
              "      <th>x7_dec</th>\n",
              "      <th>x7_feb</th>\n",
              "      <th>x7_jan</th>\n",
              "      <th>x7_jul</th>\n",
              "      <th>x7_jun</th>\n",
              "      <th>x7_mar</th>\n",
              "      <th>x7_may</th>\n",
              "      <th>x7_nov</th>\n",
              "      <th>x7_oct</th>\n",
              "      <th>x7_sep</th>\n",
              "      <th>x8_failure</th>\n",
              "      <th>x8_other</th>\n",
              "      <th>x8_success</th>\n",
              "      <th>x8_unknown</th>\n",
              "    </tr>\n",
              "  </thead>\n",
              "  <tbody>\n",
              "    <tr>\n",
              "      <th>26</th>\n",
              "      <td>55</td>\n",
              "      <td>627</td>\n",
              "      <td>5</td>\n",
              "      <td>247</td>\n",
              "      <td>1</td>\n",
              "      <td>-1</td>\n",
              "      <td>0</td>\n",
              "      <td>0.0</td>\n",
              "      <td>1.0</td>\n",
              "      <td>0.0</td>\n",
              "      <td>0.0</td>\n",
              "      <td>0.0</td>\n",
              "      <td>0.0</td>\n",
              "      <td>0.0</td>\n",
              "      <td>0.0</td>\n",
              "      <td>0.0</td>\n",
              "      <td>0.0</td>\n",
              "      <td>0.0</td>\n",
              "      <td>0.0</td>\n",
              "      <td>0.0</td>\n",
              "      <td>1.0</td>\n",
              "      <td>0.0</td>\n",
              "      <td>1.0</td>\n",
              "      <td>0.0</td>\n",
              "      <td>0.0</td>\n",
              "      <td>0.0</td>\n",
              "      <td>1.0</td>\n",
              "      <td>0.0</td>\n",
              "      <td>0.0</td>\n",
              "      <td>1.0</td>\n",
              "      <td>1.0</td>\n",
              "      <td>0.0</td>\n",
              "      <td>0.0</td>\n",
              "      <td>0.0</td>\n",
              "      <td>1.0</td>\n",
              "      <td>0.0</td>\n",
              "      <td>0.0</td>\n",
              "      <td>0.0</td>\n",
              "      <td>0.0</td>\n",
              "      <td>0.0</td>\n",
              "      <td>0.0</td>\n",
              "      <td>0.0</td>\n",
              "      <td>0.0</td>\n",
              "      <td>1.0</td>\n",
              "      <td>0.0</td>\n",
              "      <td>0.0</td>\n",
              "      <td>0.0</td>\n",
              "      <td>0.0</td>\n",
              "      <td>0.0</td>\n",
              "      <td>0.0</td>\n",
              "      <td>1.0</td>\n",
              "    </tr>\n",
              "    <tr>\n",
              "      <th>544</th>\n",
              "      <td>49</td>\n",
              "      <td>2465</td>\n",
              "      <td>20</td>\n",
              "      <td>157</td>\n",
              "      <td>3</td>\n",
              "      <td>-1</td>\n",
              "      <td>0</td>\n",
              "      <td>1.0</td>\n",
              "      <td>0.0</td>\n",
              "      <td>0.0</td>\n",
              "      <td>0.0</td>\n",
              "      <td>0.0</td>\n",
              "      <td>0.0</td>\n",
              "      <td>0.0</td>\n",
              "      <td>0.0</td>\n",
              "      <td>0.0</td>\n",
              "      <td>0.0</td>\n",
              "      <td>0.0</td>\n",
              "      <td>0.0</td>\n",
              "      <td>0.0</td>\n",
              "      <td>1.0</td>\n",
              "      <td>0.0</td>\n",
              "      <td>0.0</td>\n",
              "      <td>1.0</td>\n",
              "      <td>0.0</td>\n",
              "      <td>0.0</td>\n",
              "      <td>1.0</td>\n",
              "      <td>0.0</td>\n",
              "      <td>1.0</td>\n",
              "      <td>0.0</td>\n",
              "      <td>1.0</td>\n",
              "      <td>0.0</td>\n",
              "      <td>1.0</td>\n",
              "      <td>0.0</td>\n",
              "      <td>0.0</td>\n",
              "      <td>0.0</td>\n",
              "      <td>1.0</td>\n",
              "      <td>0.0</td>\n",
              "      <td>0.0</td>\n",
              "      <td>0.0</td>\n",
              "      <td>0.0</td>\n",
              "      <td>0.0</td>\n",
              "      <td>0.0</td>\n",
              "      <td>0.0</td>\n",
              "      <td>0.0</td>\n",
              "      <td>0.0</td>\n",
              "      <td>0.0</td>\n",
              "      <td>0.0</td>\n",
              "      <td>0.0</td>\n",
              "      <td>0.0</td>\n",
              "      <td>1.0</td>\n",
              "    </tr>\n",
              "    <tr>\n",
              "      <th>1059</th>\n",
              "      <td>57</td>\n",
              "      <td>808</td>\n",
              "      <td>7</td>\n",
              "      <td>274</td>\n",
              "      <td>1</td>\n",
              "      <td>-1</td>\n",
              "      <td>0</td>\n",
              "      <td>0.0</td>\n",
              "      <td>0.0</td>\n",
              "      <td>0.0</td>\n",
              "      <td>0.0</td>\n",
              "      <td>0.0</td>\n",
              "      <td>1.0</td>\n",
              "      <td>0.0</td>\n",
              "      <td>0.0</td>\n",
              "      <td>0.0</td>\n",
              "      <td>0.0</td>\n",
              "      <td>0.0</td>\n",
              "      <td>0.0</td>\n",
              "      <td>0.0</td>\n",
              "      <td>1.0</td>\n",
              "      <td>0.0</td>\n",
              "      <td>1.0</td>\n",
              "      <td>0.0</td>\n",
              "      <td>0.0</td>\n",
              "      <td>0.0</td>\n",
              "      <td>1.0</td>\n",
              "      <td>0.0</td>\n",
              "      <td>1.0</td>\n",
              "      <td>0.0</td>\n",
              "      <td>1.0</td>\n",
              "      <td>0.0</td>\n",
              "      <td>0.0</td>\n",
              "      <td>1.0</td>\n",
              "      <td>0.0</td>\n",
              "      <td>0.0</td>\n",
              "      <td>0.0</td>\n",
              "      <td>0.0</td>\n",
              "      <td>0.0</td>\n",
              "      <td>0.0</td>\n",
              "      <td>1.0</td>\n",
              "      <td>0.0</td>\n",
              "      <td>0.0</td>\n",
              "      <td>0.0</td>\n",
              "      <td>0.0</td>\n",
              "      <td>0.0</td>\n",
              "      <td>0.0</td>\n",
              "      <td>0.0</td>\n",
              "      <td>0.0</td>\n",
              "      <td>0.0</td>\n",
              "      <td>1.0</td>\n",
              "    </tr>\n",
              "    <tr>\n",
              "      <th>1010</th>\n",
              "      <td>23</td>\n",
              "      <td>8494</td>\n",
              "      <td>25</td>\n",
              "      <td>158</td>\n",
              "      <td>2</td>\n",
              "      <td>-1</td>\n",
              "      <td>0</td>\n",
              "      <td>0.0</td>\n",
              "      <td>0.0</td>\n",
              "      <td>0.0</td>\n",
              "      <td>0.0</td>\n",
              "      <td>0.0</td>\n",
              "      <td>0.0</td>\n",
              "      <td>0.0</td>\n",
              "      <td>0.0</td>\n",
              "      <td>1.0</td>\n",
              "      <td>0.0</td>\n",
              "      <td>0.0</td>\n",
              "      <td>0.0</td>\n",
              "      <td>0.0</td>\n",
              "      <td>0.0</td>\n",
              "      <td>1.0</td>\n",
              "      <td>0.0</td>\n",
              "      <td>1.0</td>\n",
              "      <td>0.0</td>\n",
              "      <td>0.0</td>\n",
              "      <td>1.0</td>\n",
              "      <td>0.0</td>\n",
              "      <td>1.0</td>\n",
              "      <td>0.0</td>\n",
              "      <td>1.0</td>\n",
              "      <td>0.0</td>\n",
              "      <td>1.0</td>\n",
              "      <td>0.0</td>\n",
              "      <td>0.0</td>\n",
              "      <td>0.0</td>\n",
              "      <td>1.0</td>\n",
              "      <td>0.0</td>\n",
              "      <td>0.0</td>\n",
              "      <td>0.0</td>\n",
              "      <td>0.0</td>\n",
              "      <td>0.0</td>\n",
              "      <td>0.0</td>\n",
              "      <td>0.0</td>\n",
              "      <td>0.0</td>\n",
              "      <td>0.0</td>\n",
              "      <td>0.0</td>\n",
              "      <td>0.0</td>\n",
              "      <td>0.0</td>\n",
              "      <td>0.0</td>\n",
              "      <td>1.0</td>\n",
              "    </tr>\n",
              "    <tr>\n",
              "      <th>471</th>\n",
              "      <td>55</td>\n",
              "      <td>-196</td>\n",
              "      <td>20</td>\n",
              "      <td>210</td>\n",
              "      <td>2</td>\n",
              "      <td>-1</td>\n",
              "      <td>0</td>\n",
              "      <td>0.0</td>\n",
              "      <td>0.0</td>\n",
              "      <td>0.0</td>\n",
              "      <td>0.0</td>\n",
              "      <td>0.0</td>\n",
              "      <td>0.0</td>\n",
              "      <td>1.0</td>\n",
              "      <td>0.0</td>\n",
              "      <td>0.0</td>\n",
              "      <td>0.0</td>\n",
              "      <td>0.0</td>\n",
              "      <td>0.0</td>\n",
              "      <td>0.0</td>\n",
              "      <td>1.0</td>\n",
              "      <td>0.0</td>\n",
              "      <td>0.0</td>\n",
              "      <td>1.0</td>\n",
              "      <td>0.0</td>\n",
              "      <td>0.0</td>\n",
              "      <td>1.0</td>\n",
              "      <td>0.0</td>\n",
              "      <td>0.0</td>\n",
              "      <td>1.0</td>\n",
              "      <td>1.0</td>\n",
              "      <td>0.0</td>\n",
              "      <td>0.0</td>\n",
              "      <td>0.0</td>\n",
              "      <td>1.0</td>\n",
              "      <td>0.0</td>\n",
              "      <td>0.0</td>\n",
              "      <td>0.0</td>\n",
              "      <td>0.0</td>\n",
              "      <td>0.0</td>\n",
              "      <td>0.0</td>\n",
              "      <td>0.0</td>\n",
              "      <td>0.0</td>\n",
              "      <td>1.0</td>\n",
              "      <td>0.0</td>\n",
              "      <td>0.0</td>\n",
              "      <td>0.0</td>\n",
              "      <td>0.0</td>\n",
              "      <td>0.0</td>\n",
              "      <td>0.0</td>\n",
              "      <td>1.0</td>\n",
              "    </tr>\n",
              "  </tbody>\n",
              "</table>\n",
              "</div>"
            ],
            "text/plain": [
              "      age  balance  day  duration  ...  x8_failure  x8_other  x8_success  x8_unknown\n",
              "26     55      627    5       247  ...         0.0       0.0         0.0         1.0\n",
              "544    49     2465   20       157  ...         0.0       0.0         0.0         1.0\n",
              "1059   57      808    7       274  ...         0.0       0.0         0.0         1.0\n",
              "1010   23     8494   25       158  ...         0.0       0.0         0.0         1.0\n",
              "471    55     -196   20       210  ...         0.0       0.0         0.0         1.0\n",
              "\n",
              "[5 rows x 51 columns]"
            ]
          },
          "metadata": {
            "tags": []
          },
          "execution_count": 41
        }
      ]
    },
    {
      "cell_type": "code",
      "metadata": {
        "id": "WKXBfq2ImHJw",
        "colab": {
          "base_uri": "https://localhost:8080/",
          "height": 232
        },
        "outputId": "4cb2de4f-7513-4d1a-de35-d1405f8d5723"
      },
      "source": [
        "# OneHotEncoding on Test (only transform)\n",
        "# OneHotEncoding is to be done on Categorical variables.\n",
        "Xcat = pd.DataFrame(ohe.transform(Xtest[categoricalFeatures]),columns=ohe.get_feature_names(),index=Xtest.index)\n",
        "Xtest = pd.concat([Xtest,Xcat],axis=1)\n",
        "Xtest.drop(labels=categoricalFeatures,axis=1,inplace=True)\n",
        "Xtest.sample(5)"
      ],
      "execution_count": null,
      "outputs": [
        {
          "output_type": "execute_result",
          "data": {
            "text/html": [
              "<div>\n",
              "<style scoped>\n",
              "    .dataframe tbody tr th:only-of-type {\n",
              "        vertical-align: middle;\n",
              "    }\n",
              "\n",
              "    .dataframe tbody tr th {\n",
              "        vertical-align: top;\n",
              "    }\n",
              "\n",
              "    .dataframe thead th {\n",
              "        text-align: right;\n",
              "    }\n",
              "</style>\n",
              "<table border=\"1\" class=\"dataframe\">\n",
              "  <thead>\n",
              "    <tr style=\"text-align: right;\">\n",
              "      <th></th>\n",
              "      <th>age</th>\n",
              "      <th>balance</th>\n",
              "      <th>day</th>\n",
              "      <th>duration</th>\n",
              "      <th>campaign</th>\n",
              "      <th>pdays</th>\n",
              "      <th>previous</th>\n",
              "      <th>x0_admin.</th>\n",
              "      <th>x0_blue-collar</th>\n",
              "      <th>x0_entrepreneur</th>\n",
              "      <th>x0_housemaid</th>\n",
              "      <th>x0_management</th>\n",
              "      <th>x0_retired</th>\n",
              "      <th>x0_self-employed</th>\n",
              "      <th>x0_services</th>\n",
              "      <th>x0_student</th>\n",
              "      <th>x0_technician</th>\n",
              "      <th>x0_unemployed</th>\n",
              "      <th>x0_unknown</th>\n",
              "      <th>x1_divorced</th>\n",
              "      <th>x1_married</th>\n",
              "      <th>x1_single</th>\n",
              "      <th>x2_primary</th>\n",
              "      <th>x2_secondary</th>\n",
              "      <th>x2_tertiary</th>\n",
              "      <th>x2_unknown</th>\n",
              "      <th>x3_no</th>\n",
              "      <th>x3_yes</th>\n",
              "      <th>x4_no</th>\n",
              "      <th>x4_yes</th>\n",
              "      <th>x5_no</th>\n",
              "      <th>x5_yes</th>\n",
              "      <th>x6_cellular</th>\n",
              "      <th>x6_telephone</th>\n",
              "      <th>x6_unknown</th>\n",
              "      <th>x7_apr</th>\n",
              "      <th>x7_aug</th>\n",
              "      <th>x7_dec</th>\n",
              "      <th>x7_feb</th>\n",
              "      <th>x7_jan</th>\n",
              "      <th>x7_jul</th>\n",
              "      <th>x7_jun</th>\n",
              "      <th>x7_mar</th>\n",
              "      <th>x7_may</th>\n",
              "      <th>x7_nov</th>\n",
              "      <th>x7_oct</th>\n",
              "      <th>x7_sep</th>\n",
              "      <th>x8_failure</th>\n",
              "      <th>x8_other</th>\n",
              "      <th>x8_success</th>\n",
              "      <th>x8_unknown</th>\n",
              "    </tr>\n",
              "  </thead>\n",
              "  <tbody>\n",
              "    <tr>\n",
              "      <th>33661</th>\n",
              "      <td>33</td>\n",
              "      <td>1586</td>\n",
              "      <td>20</td>\n",
              "      <td>39</td>\n",
              "      <td>4</td>\n",
              "      <td>-1</td>\n",
              "      <td>0</td>\n",
              "      <td>1.0</td>\n",
              "      <td>0.0</td>\n",
              "      <td>0.0</td>\n",
              "      <td>0.0</td>\n",
              "      <td>0.0</td>\n",
              "      <td>0.0</td>\n",
              "      <td>0.0</td>\n",
              "      <td>0.0</td>\n",
              "      <td>0.0</td>\n",
              "      <td>0.0</td>\n",
              "      <td>0.0</td>\n",
              "      <td>0.0</td>\n",
              "      <td>1.0</td>\n",
              "      <td>0.0</td>\n",
              "      <td>0.0</td>\n",
              "      <td>0.0</td>\n",
              "      <td>0.0</td>\n",
              "      <td>1.0</td>\n",
              "      <td>0.0</td>\n",
              "      <td>1.0</td>\n",
              "      <td>0.0</td>\n",
              "      <td>1.0</td>\n",
              "      <td>0.0</td>\n",
              "      <td>1.0</td>\n",
              "      <td>0.0</td>\n",
              "      <td>1.0</td>\n",
              "      <td>0.0</td>\n",
              "      <td>0.0</td>\n",
              "      <td>1.0</td>\n",
              "      <td>0.0</td>\n",
              "      <td>0.0</td>\n",
              "      <td>0.0</td>\n",
              "      <td>0.0</td>\n",
              "      <td>0.0</td>\n",
              "      <td>0.0</td>\n",
              "      <td>0.0</td>\n",
              "      <td>0.0</td>\n",
              "      <td>0.0</td>\n",
              "      <td>0.0</td>\n",
              "      <td>0.0</td>\n",
              "      <td>0.0</td>\n",
              "      <td>0.0</td>\n",
              "      <td>0.0</td>\n",
              "      <td>1.0</td>\n",
              "    </tr>\n",
              "    <tr>\n",
              "      <th>30128</th>\n",
              "      <td>45</td>\n",
              "      <td>323</td>\n",
              "      <td>4</td>\n",
              "      <td>56</td>\n",
              "      <td>4</td>\n",
              "      <td>7</td>\n",
              "      <td>6</td>\n",
              "      <td>1.0</td>\n",
              "      <td>0.0</td>\n",
              "      <td>0.0</td>\n",
              "      <td>0.0</td>\n",
              "      <td>0.0</td>\n",
              "      <td>0.0</td>\n",
              "      <td>0.0</td>\n",
              "      <td>0.0</td>\n",
              "      <td>0.0</td>\n",
              "      <td>0.0</td>\n",
              "      <td>0.0</td>\n",
              "      <td>0.0</td>\n",
              "      <td>0.0</td>\n",
              "      <td>1.0</td>\n",
              "      <td>0.0</td>\n",
              "      <td>0.0</td>\n",
              "      <td>0.0</td>\n",
              "      <td>0.0</td>\n",
              "      <td>1.0</td>\n",
              "      <td>1.0</td>\n",
              "      <td>0.0</td>\n",
              "      <td>1.0</td>\n",
              "      <td>0.0</td>\n",
              "      <td>1.0</td>\n",
              "      <td>0.0</td>\n",
              "      <td>0.0</td>\n",
              "      <td>1.0</td>\n",
              "      <td>0.0</td>\n",
              "      <td>0.0</td>\n",
              "      <td>0.0</td>\n",
              "      <td>0.0</td>\n",
              "      <td>1.0</td>\n",
              "      <td>0.0</td>\n",
              "      <td>0.0</td>\n",
              "      <td>0.0</td>\n",
              "      <td>0.0</td>\n",
              "      <td>0.0</td>\n",
              "      <td>0.0</td>\n",
              "      <td>0.0</td>\n",
              "      <td>0.0</td>\n",
              "      <td>0.0</td>\n",
              "      <td>1.0</td>\n",
              "      <td>0.0</td>\n",
              "      <td>0.0</td>\n",
              "    </tr>\n",
              "    <tr>\n",
              "      <th>19021</th>\n",
              "      <td>58</td>\n",
              "      <td>4725</td>\n",
              "      <td>5</td>\n",
              "      <td>241</td>\n",
              "      <td>1</td>\n",
              "      <td>-1</td>\n",
              "      <td>0</td>\n",
              "      <td>0.0</td>\n",
              "      <td>0.0</td>\n",
              "      <td>0.0</td>\n",
              "      <td>0.0</td>\n",
              "      <td>0.0</td>\n",
              "      <td>1.0</td>\n",
              "      <td>0.0</td>\n",
              "      <td>0.0</td>\n",
              "      <td>0.0</td>\n",
              "      <td>0.0</td>\n",
              "      <td>0.0</td>\n",
              "      <td>0.0</td>\n",
              "      <td>0.0</td>\n",
              "      <td>1.0</td>\n",
              "      <td>0.0</td>\n",
              "      <td>0.0</td>\n",
              "      <td>1.0</td>\n",
              "      <td>0.0</td>\n",
              "      <td>0.0</td>\n",
              "      <td>1.0</td>\n",
              "      <td>0.0</td>\n",
              "      <td>1.0</td>\n",
              "      <td>0.0</td>\n",
              "      <td>1.0</td>\n",
              "      <td>0.0</td>\n",
              "      <td>1.0</td>\n",
              "      <td>0.0</td>\n",
              "      <td>0.0</td>\n",
              "      <td>0.0</td>\n",
              "      <td>1.0</td>\n",
              "      <td>0.0</td>\n",
              "      <td>0.0</td>\n",
              "      <td>0.0</td>\n",
              "      <td>0.0</td>\n",
              "      <td>0.0</td>\n",
              "      <td>0.0</td>\n",
              "      <td>0.0</td>\n",
              "      <td>0.0</td>\n",
              "      <td>0.0</td>\n",
              "      <td>0.0</td>\n",
              "      <td>0.0</td>\n",
              "      <td>0.0</td>\n",
              "      <td>0.0</td>\n",
              "      <td>1.0</td>\n",
              "    </tr>\n",
              "    <tr>\n",
              "      <th>44944</th>\n",
              "      <td>24</td>\n",
              "      <td>368</td>\n",
              "      <td>7</td>\n",
              "      <td>197</td>\n",
              "      <td>2</td>\n",
              "      <td>-1</td>\n",
              "      <td>0</td>\n",
              "      <td>0.0</td>\n",
              "      <td>0.0</td>\n",
              "      <td>0.0</td>\n",
              "      <td>0.0</td>\n",
              "      <td>0.0</td>\n",
              "      <td>0.0</td>\n",
              "      <td>0.0</td>\n",
              "      <td>0.0</td>\n",
              "      <td>0.0</td>\n",
              "      <td>1.0</td>\n",
              "      <td>0.0</td>\n",
              "      <td>0.0</td>\n",
              "      <td>0.0</td>\n",
              "      <td>0.0</td>\n",
              "      <td>1.0</td>\n",
              "      <td>0.0</td>\n",
              "      <td>0.0</td>\n",
              "      <td>1.0</td>\n",
              "      <td>0.0</td>\n",
              "      <td>1.0</td>\n",
              "      <td>0.0</td>\n",
              "      <td>1.0</td>\n",
              "      <td>0.0</td>\n",
              "      <td>1.0</td>\n",
              "      <td>0.0</td>\n",
              "      <td>1.0</td>\n",
              "      <td>0.0</td>\n",
              "      <td>0.0</td>\n",
              "      <td>0.0</td>\n",
              "      <td>0.0</td>\n",
              "      <td>0.0</td>\n",
              "      <td>0.0</td>\n",
              "      <td>0.0</td>\n",
              "      <td>0.0</td>\n",
              "      <td>0.0</td>\n",
              "      <td>0.0</td>\n",
              "      <td>0.0</td>\n",
              "      <td>0.0</td>\n",
              "      <td>1.0</td>\n",
              "      <td>0.0</td>\n",
              "      <td>0.0</td>\n",
              "      <td>0.0</td>\n",
              "      <td>0.0</td>\n",
              "      <td>1.0</td>\n",
              "    </tr>\n",
              "    <tr>\n",
              "      <th>37077</th>\n",
              "      <td>39</td>\n",
              "      <td>1419</td>\n",
              "      <td>13</td>\n",
              "      <td>9</td>\n",
              "      <td>12</td>\n",
              "      <td>349</td>\n",
              "      <td>1</td>\n",
              "      <td>0.0</td>\n",
              "      <td>1.0</td>\n",
              "      <td>0.0</td>\n",
              "      <td>0.0</td>\n",
              "      <td>0.0</td>\n",
              "      <td>0.0</td>\n",
              "      <td>0.0</td>\n",
              "      <td>0.0</td>\n",
              "      <td>0.0</td>\n",
              "      <td>0.0</td>\n",
              "      <td>0.0</td>\n",
              "      <td>0.0</td>\n",
              "      <td>0.0</td>\n",
              "      <td>1.0</td>\n",
              "      <td>0.0</td>\n",
              "      <td>0.0</td>\n",
              "      <td>1.0</td>\n",
              "      <td>0.0</td>\n",
              "      <td>0.0</td>\n",
              "      <td>1.0</td>\n",
              "      <td>0.0</td>\n",
              "      <td>0.0</td>\n",
              "      <td>1.0</td>\n",
              "      <td>1.0</td>\n",
              "      <td>0.0</td>\n",
              "      <td>1.0</td>\n",
              "      <td>0.0</td>\n",
              "      <td>0.0</td>\n",
              "      <td>0.0</td>\n",
              "      <td>0.0</td>\n",
              "      <td>0.0</td>\n",
              "      <td>0.0</td>\n",
              "      <td>0.0</td>\n",
              "      <td>0.0</td>\n",
              "      <td>0.0</td>\n",
              "      <td>0.0</td>\n",
              "      <td>1.0</td>\n",
              "      <td>0.0</td>\n",
              "      <td>0.0</td>\n",
              "      <td>0.0</td>\n",
              "      <td>0.0</td>\n",
              "      <td>1.0</td>\n",
              "      <td>0.0</td>\n",
              "      <td>0.0</td>\n",
              "    </tr>\n",
              "  </tbody>\n",
              "</table>\n",
              "</div>"
            ],
            "text/plain": [
              "       age  balance  day  ...  x8_other  x8_success  x8_unknown\n",
              "33661   33     1586   20  ...       0.0         0.0         1.0\n",
              "30128   45      323    4  ...       1.0         0.0         0.0\n",
              "19021   58     4725    5  ...       0.0         0.0         1.0\n",
              "44944   24      368    7  ...       0.0         0.0         1.0\n",
              "37077   39     1419   13  ...       1.0         0.0         0.0\n",
              "\n",
              "[5 rows x 51 columns]"
            ]
          },
          "metadata": {
            "tags": []
          },
          "execution_count": 42
        }
      ]
    },
    {
      "cell_type": "code",
      "metadata": {
        "id": "g-OsSN0qQgG2"
      },
      "source": [
        "#List of Categorical Features\n",
        "categorical_Depndent_variable = [\"y\"]"
      ],
      "execution_count": null,
      "outputs": []
    },
    {
      "cell_type": "code",
      "metadata": {
        "id": "e4Y6rjCUQAR_",
        "colab": {
          "base_uri": "https://localhost:8080/",
          "height": 195
        },
        "outputId": "1850e6de-0f6e-4876-a689-9a8332a0d64f"
      },
      "source": [
        "YTCat = pd.DataFrame(ohe.fit_transform(Ytrain[categorical_Depndent_variable]),columns=ohe.get_feature_names(),index=Ytrain.index)\n",
        "Ytrain = pd.concat([Ytrain,YTCat],axis=1)\n",
        "Ytrain.drop(labels=categorical_Depndent_variable,axis=1,inplace=True)\n",
        "Ytrain.sample(5)"
      ],
      "execution_count": null,
      "outputs": [
        {
          "output_type": "execute_result",
          "data": {
            "text/html": [
              "<div>\n",
              "<style scoped>\n",
              "    .dataframe tbody tr th:only-of-type {\n",
              "        vertical-align: middle;\n",
              "    }\n",
              "\n",
              "    .dataframe tbody tr th {\n",
              "        vertical-align: top;\n",
              "    }\n",
              "\n",
              "    .dataframe thead th {\n",
              "        text-align: right;\n",
              "    }\n",
              "</style>\n",
              "<table border=\"1\" class=\"dataframe\">\n",
              "  <thead>\n",
              "    <tr style=\"text-align: right;\">\n",
              "      <th></th>\n",
              "      <th>x0_no</th>\n",
              "      <th>x0_yes</th>\n",
              "    </tr>\n",
              "  </thead>\n",
              "  <tbody>\n",
              "    <tr>\n",
              "      <th>2972</th>\n",
              "      <td>0.0</td>\n",
              "      <td>1.0</td>\n",
              "    </tr>\n",
              "    <tr>\n",
              "      <th>4295</th>\n",
              "      <td>1.0</td>\n",
              "      <td>0.0</td>\n",
              "    </tr>\n",
              "    <tr>\n",
              "      <th>2929</th>\n",
              "      <td>1.0</td>\n",
              "      <td>0.0</td>\n",
              "    </tr>\n",
              "    <tr>\n",
              "      <th>8</th>\n",
              "      <td>1.0</td>\n",
              "      <td>0.0</td>\n",
              "    </tr>\n",
              "    <tr>\n",
              "      <th>2957</th>\n",
              "      <td>1.0</td>\n",
              "      <td>0.0</td>\n",
              "    </tr>\n",
              "  </tbody>\n",
              "</table>\n",
              "</div>"
            ],
            "text/plain": [
              "      x0_no  x0_yes\n",
              "2972    0.0     1.0\n",
              "4295    1.0     0.0\n",
              "2929    1.0     0.0\n",
              "8       1.0     0.0\n",
              "2957    1.0     0.0"
            ]
          },
          "metadata": {
            "tags": []
          },
          "execution_count": 44
        }
      ]
    },
    {
      "cell_type": "code",
      "metadata": {
        "id": "KhzST0FDTO9j",
        "colab": {
          "base_uri": "https://localhost:8080/",
          "height": 118
        },
        "outputId": "ca63c194-88f9-450b-85f7-cb72a529ec66"
      },
      "source": [
        "Ytrain = Ytrain.iloc[:,-1]\n",
        "Ytrain.head()"
      ],
      "execution_count": null,
      "outputs": [
        {
          "output_type": "execute_result",
          "data": {
            "text/plain": [
              "0    0.0\n",
              "1    0.0\n",
              "2    0.0\n",
              "3    0.0\n",
              "4    0.0\n",
              "Name: x0_yes, dtype: float64"
            ]
          },
          "metadata": {
            "tags": []
          },
          "execution_count": 45
        }
      ]
    },
    {
      "cell_type": "code",
      "metadata": {
        "id": "o9C0q781RSDa",
        "colab": {
          "base_uri": "https://localhost:8080/",
          "height": 195
        },
        "outputId": "1e6ce8b8-0ca2-4456-8b43-e8dd5c397a67"
      },
      "source": [
        "YtestCat = pd.DataFrame(ohe.fit_transform(Ytest[categorical_Depndent_variable]),columns=ohe.get_feature_names(),index=Ytest.index)\n",
        "Ytest = pd.concat([Ytest,YtestCat],axis=1)\n",
        "Ytest.drop(labels=categorical_Depndent_variable,axis=1,inplace=True)\n",
        "Ytest.sample(5)"
      ],
      "execution_count": null,
      "outputs": [
        {
          "output_type": "execute_result",
          "data": {
            "text/html": [
              "<div>\n",
              "<style scoped>\n",
              "    .dataframe tbody tr th:only-of-type {\n",
              "        vertical-align: middle;\n",
              "    }\n",
              "\n",
              "    .dataframe tbody tr th {\n",
              "        vertical-align: top;\n",
              "    }\n",
              "\n",
              "    .dataframe thead th {\n",
              "        text-align: right;\n",
              "    }\n",
              "</style>\n",
              "<table border=\"1\" class=\"dataframe\">\n",
              "  <thead>\n",
              "    <tr style=\"text-align: right;\">\n",
              "      <th></th>\n",
              "      <th>x0_no</th>\n",
              "      <th>x0_yes</th>\n",
              "    </tr>\n",
              "  </thead>\n",
              "  <tbody>\n",
              "    <tr>\n",
              "      <th>17498</th>\n",
              "      <td>1.0</td>\n",
              "      <td>0.0</td>\n",
              "    </tr>\n",
              "    <tr>\n",
              "      <th>36596</th>\n",
              "      <td>1.0</td>\n",
              "      <td>0.0</td>\n",
              "    </tr>\n",
              "    <tr>\n",
              "      <th>12599</th>\n",
              "      <td>1.0</td>\n",
              "      <td>0.0</td>\n",
              "    </tr>\n",
              "    <tr>\n",
              "      <th>8824</th>\n",
              "      <td>1.0</td>\n",
              "      <td>0.0</td>\n",
              "    </tr>\n",
              "    <tr>\n",
              "      <th>21701</th>\n",
              "      <td>1.0</td>\n",
              "      <td>0.0</td>\n",
              "    </tr>\n",
              "  </tbody>\n",
              "</table>\n",
              "</div>"
            ],
            "text/plain": [
              "       x0_no  x0_yes\n",
              "17498    1.0     0.0\n",
              "36596    1.0     0.0\n",
              "12599    1.0     0.0\n",
              "8824     1.0     0.0\n",
              "21701    1.0     0.0"
            ]
          },
          "metadata": {
            "tags": []
          },
          "execution_count": 46
        }
      ]
    },
    {
      "cell_type": "code",
      "metadata": {
        "id": "aQ6Jv0kfTahe",
        "colab": {
          "base_uri": "https://localhost:8080/",
          "height": 195
        },
        "outputId": "7515b580-8e39-4baf-e277-b6d38f997319"
      },
      "source": [
        "Ytrain = Ytest.iloc[:,-1]\n",
        "Ytest.head()"
      ],
      "execution_count": null,
      "outputs": [
        {
          "output_type": "execute_result",
          "data": {
            "text/html": [
              "<div>\n",
              "<style scoped>\n",
              "    .dataframe tbody tr th:only-of-type {\n",
              "        vertical-align: middle;\n",
              "    }\n",
              "\n",
              "    .dataframe tbody tr th {\n",
              "        vertical-align: top;\n",
              "    }\n",
              "\n",
              "    .dataframe thead th {\n",
              "        text-align: right;\n",
              "    }\n",
              "</style>\n",
              "<table border=\"1\" class=\"dataframe\">\n",
              "  <thead>\n",
              "    <tr style=\"text-align: right;\">\n",
              "      <th></th>\n",
              "      <th>x0_no</th>\n",
              "      <th>x0_yes</th>\n",
              "    </tr>\n",
              "  </thead>\n",
              "  <tbody>\n",
              "    <tr>\n",
              "      <th>0</th>\n",
              "      <td>1.0</td>\n",
              "      <td>0.0</td>\n",
              "    </tr>\n",
              "    <tr>\n",
              "      <th>1</th>\n",
              "      <td>1.0</td>\n",
              "      <td>0.0</td>\n",
              "    </tr>\n",
              "    <tr>\n",
              "      <th>2</th>\n",
              "      <td>1.0</td>\n",
              "      <td>0.0</td>\n",
              "    </tr>\n",
              "    <tr>\n",
              "      <th>3</th>\n",
              "      <td>1.0</td>\n",
              "      <td>0.0</td>\n",
              "    </tr>\n",
              "    <tr>\n",
              "      <th>4</th>\n",
              "      <td>1.0</td>\n",
              "      <td>0.0</td>\n",
              "    </tr>\n",
              "  </tbody>\n",
              "</table>\n",
              "</div>"
            ],
            "text/plain": [
              "   x0_no  x0_yes\n",
              "0    1.0     0.0\n",
              "1    1.0     0.0\n",
              "2    1.0     0.0\n",
              "3    1.0     0.0\n",
              "4    1.0     0.0"
            ]
          },
          "metadata": {
            "tags": []
          },
          "execution_count": 47
        }
      ]
    },
    {
      "cell_type": "code",
      "metadata": {
        "id": "WoJIlhutmHMq",
        "colab": {
          "base_uri": "https://localhost:8080/",
          "height": 118
        },
        "outputId": "b563d20b-3676-46de-d53c-c57d6634220e"
      },
      "source": [
        "dt = DecisionTreeClassifier()\n",
        "dt.fit(Xtrain, Ytrain)"
      ],
      "execution_count": null,
      "outputs": [
        {
          "output_type": "execute_result",
          "data": {
            "text/plain": [
              "DecisionTreeClassifier(ccp_alpha=0.0, class_weight=None, criterion='gini',\n",
              "                       max_depth=None, max_features=None, max_leaf_nodes=None,\n",
              "                       min_impurity_decrease=0.0, min_impurity_split=None,\n",
              "                       min_samples_leaf=1, min_samples_split=2,\n",
              "                       min_weight_fraction_leaf=0.0, presort='deprecated',\n",
              "                       random_state=None, splitter='best')"
            ]
          },
          "metadata": {
            "tags": []
          },
          "execution_count": 15
        }
      ]
    },
    {
      "cell_type": "code",
      "metadata": {
        "id": "Bv-B6oECojwE",
        "colab": {
          "base_uri": "https://localhost:8080/",
          "height": 319
        },
        "outputId": "4e73c0b4-dedb-47c4-cc97-d75fa43c8d08"
      },
      "source": [
        "Train_Pred = dt.predict(Xtrain)\n",
        "Test_Pred = dt.predict(Xtest)\n",
        "#Model Accuracy\n",
        "print(\"Train Accuracy:\", metrics.accuracy_score(Ytrain,Train_Pred))\n",
        "print(\"Test Accuracy:\", metrics.accuracy_score(Ytest,Test_Pred))\n",
        "print(\"Confusion Matrix for Decision Tree:\")\n",
        "print(confusion_matrix(Ytest,Test_Pred))\n",
        "print(\"Max Depth\",dt.get_depth())\n",
        "print(\"Leaf\",dt.get_n_leaves())\n",
        "print('Printing the precision and recall, among other metrics')\n",
        "print(metrics.classification_report(Ytest, Test_Pred))\n",
        "clf_cv_score = cross_val_score(dt, Xtrain, Ytrain, cv=5, scoring=\"balanced_accuracy\")\n",
        "print(clf_cv_score)"
      ],
      "execution_count": null,
      "outputs": [
        {
          "output_type": "stream",
          "text": [
            "Train Accuracy: 1.0\n",
            "Test Accuracy: 0.8835460396806087\n",
            "Confusion Matrix for Decision Tree:\n",
            "[[37236  2686]\n",
            " [ 2579  2710]]\n",
            "Max Depth 28\n",
            "Leaf 380\n",
            "Printing the precision and recall, among other metrics\n",
            "              precision    recall  f1-score   support\n",
            "\n",
            "         0.0       0.94      0.93      0.93     39922\n",
            "         1.0       0.50      0.51      0.51      5289\n",
            "\n",
            "    accuracy                           0.88     45211\n",
            "   macro avg       0.72      0.72      0.72     45211\n",
            "weighted avg       0.88      0.88      0.88     45211\n",
            "\n",
            "[0.67452381 0.64668269 0.72230769 0.70307692 0.68408654]\n"
          ],
          "name": "stdout"
        }
      ]
    },
    {
      "cell_type": "code",
      "metadata": {
        "id": "FUgyqFcYojrV",
        "colab": {
          "base_uri": "https://localhost:8080/",
          "height": 151
        },
        "outputId": "70262d1b-2e08-41dc-9afb-48b50cc03c4b"
      },
      "source": [
        "rf = RandomForestClassifier()\n",
        "rf.fit(Xtrain, Ytrain)"
      ],
      "execution_count": null,
      "outputs": [
        {
          "output_type": "execute_result",
          "data": {
            "text/plain": [
              "RandomForestClassifier(bootstrap=True, ccp_alpha=0.0, class_weight=None,\n",
              "                       criterion='gini', max_depth=None, max_features='auto',\n",
              "                       max_leaf_nodes=None, max_samples=None,\n",
              "                       min_impurity_decrease=0.0, min_impurity_split=None,\n",
              "                       min_samples_leaf=1, min_samples_split=2,\n",
              "                       min_weight_fraction_leaf=0.0, n_estimators=100,\n",
              "                       n_jobs=None, oob_score=False, random_state=None,\n",
              "                       verbose=0, warm_start=False)"
            ]
          },
          "metadata": {
            "tags": []
          },
          "execution_count": 17
        }
      ]
    },
    {
      "cell_type": "code",
      "metadata": {
        "id": "Jqu4blt4ojyq",
        "colab": {
          "base_uri": "https://localhost:8080/",
          "height": 286
        },
        "outputId": "17481b32-cd09-42b9-bf7e-5b13175f2520"
      },
      "source": [
        "X_Pred1 = rf.predict(Xtest)\n",
        "XPred1 = rf.predict(Xtrain)\n",
        "#Model Accuracy\n",
        "print(\"Train Accuracy:\", metrics.accuracy_score(Ytrain,XPred1))\n",
        "print(\"Test Accuracy:\", metrics.accuracy_score(Ytest,X_Pred1))\n",
        "print(\"Confusion Matrix for Decision Tree:\")\n",
        "print(confusion_matrix(Ytest,X_Pred1))\n",
        "print('Printing the precision and recall, among other metrics')\n",
        "print(metrics.classification_report(Ytest, X_Pred1))\n",
        "clf_cv_score = cross_val_score(rf, Xtrain, Ytrain, cv=5, scoring=\"balanced_accuracy\")\n",
        "print(clf_cv_score)"
      ],
      "execution_count": null,
      "outputs": [
        {
          "output_type": "stream",
          "text": [
            "Train Accuracy: 1.0\n",
            "Test Accuracy: 0.9129194222644932\n",
            "Confusion Matrix for Decision Tree:\n",
            "[[39187   735]\n",
            " [ 3202  2087]]\n",
            "Printing the precision and recall, among other metrics\n",
            "              precision    recall  f1-score   support\n",
            "\n",
            "         0.0       0.92      0.98      0.95     39922\n",
            "         1.0       0.74      0.39      0.51      5289\n",
            "\n",
            "    accuracy                           0.91     45211\n",
            "   macro avg       0.83      0.69      0.73     45211\n",
            "weighted avg       0.90      0.91      0.90     45211\n",
            "\n",
            "[0.63824405 0.59389423 0.61269231 0.59764423 0.61206731]\n"
          ],
          "name": "stdout"
        }
      ]
    },
    {
      "cell_type": "markdown",
      "metadata": {
        "id": "ZsxXgxOwpmr2"
      },
      "source": [
        "Decision Tree: Random & Grid Search"
      ]
    },
    {
      "cell_type": "code",
      "metadata": {
        "id": "BdI0GelEpkdd",
        "colab": {
          "base_uri": "https://localhost:8080/",
          "height": 84
        },
        "outputId": "f9f2610f-66ea-4865-f7de-e9f8a1303aed"
      },
      "source": [
        "#Hyperparameter tuning done for decision tree classifier\n",
        "\n",
        "#RANDOM SEARCH--------------------------------------------\n",
        "\n",
        "import time\n",
        "start_time = time.time()\n",
        "\n",
        "print(\"RandomizedSearchCV-Decision tree\")\n",
        "parameters={'min_samples_leaf' : range(10,300,10),'max_depth': \n",
        "            range(5,30,2),'criterion':['gini','entropy']}\n",
        "dt_random = RandomizedSearchCV(dt,parameters,n_iter=25,cv=5)\n",
        "dt_random.fit(Xtrain, Ytrain)\n",
        "grid_parm=dt_random.best_params_\n",
        "print(grid_parm)\n",
        "print(\"accuracy Score for Decision Tree:{0:6f}\".\n",
        "      format(dt_random.score(Xtest,Ytest)))\n",
        "\n",
        "print(\"--- %s seconds ---\" % (time.time() - start_time))"
      ],
      "execution_count": null,
      "outputs": [
        {
          "output_type": "stream",
          "text": [
            "RandomizedSearchCV-Decision tree\n",
            "{'min_samples_leaf': 20, 'max_depth': 5, 'criterion': 'entropy'}\n",
            "accuracy Score for Decision Tree:0.897724\n",
            "--- 1.797858476638794 seconds ---\n"
          ],
          "name": "stdout"
        }
      ]
    },
    {
      "cell_type": "code",
      "metadata": {
        "id": "fsp_cahCpkf_",
        "colab": {
          "base_uri": "https://localhost:8080/",
          "height": 84
        },
        "outputId": "2060e0bc-3fdf-4ee1-fce7-75e77c1ff079"
      },
      "source": [
        "#GRID SEARCH----------------------------------------\n",
        "\n",
        "import time\n",
        "start_time = time.time()\n",
        "\n",
        "print(\"GridSearchCV-Decision tree\")\n",
        "dt_grid = GridSearchCV(dt,parameters)\n",
        "dt_grid.fit(Xtrain, Ytrain)\n",
        "grid_parm1=dt_grid.best_params_\n",
        "print(grid_parm1)\n",
        "print(\"accuracy Score for Decision Tree:{0:6f}\".\n",
        "      format(dt_grid.score(Xtest,Ytest)))\n",
        "\n",
        "print(\"--- %s seconds ---\" % (time.time() - start_time))"
      ],
      "execution_count": null,
      "outputs": [
        {
          "output_type": "stream",
          "text": [
            "GridSearchCV-Decision tree\n",
            "{'criterion': 'entropy', 'max_depth': 5, 'min_samples_leaf': 30}\n",
            "accuracy Score for Decision Tree:0.896220\n",
            "--- 54.35482621192932 seconds ---\n"
          ],
          "name": "stdout"
        }
      ]
    },
    {
      "cell_type": "code",
      "metadata": {
        "id": "5qebKqnlpkiH"
      },
      "source": [
        "#Using the parameters obtained from HyperParameterTuning in the DecisionTreeClassifier \n",
        "dtRand = DecisionTreeClassifier(**grid_parm)\n",
        "dtGrid = DecisionTreeClassifier(**grid_parm1)\n",
        "\n",
        "dtRand.fit(Xtrain,Ytrain)\n",
        "dtRand_predict = dtRand.predict(Xtest)\n",
        "dtGrid.fit(Xtrain,Ytrain)\n",
        "dtGrid_predict = dtGrid.predict(Xtest)"
      ],
      "execution_count": null,
      "outputs": []
    },
    {
      "cell_type": "code",
      "metadata": {
        "id": "rK7heVWJpkk2",
        "colab": {
          "base_uri": "https://localhost:8080/",
          "height": 269
        },
        "outputId": "41cd03e1-f7f0-4a96-d9ee-3ad03ef35fdc"
      },
      "source": [
        "# Accuracy for Decision Tree using Random Search CV for Hyperparameter Tuning\n",
        "\n",
        "print(\"Test Accuracy:\", metrics.accuracy_score(Ytest,dtRand_predict))\n",
        "print(\"Confusion Matrix for Decision Tree:\")\n",
        "print(confusion_matrix(Ytest,dtRand_predict))\n",
        "print('Printing the precision and recall, among other metrics')\n",
        "print(metrics.classification_report(Ytest, dtRand_predict))\n",
        "clf_cv_score = cross_val_score(dtRand, Xtrain, Ytrain, cv=5, scoring=\"balanced_accuracy\")\n",
        "print(clf_cv_score)"
      ],
      "execution_count": null,
      "outputs": [
        {
          "output_type": "stream",
          "text": [
            "Test Accuracy: 0.8977240052199686\n",
            "Confusion Matrix for Decision Tree:\n",
            "[[39063   859]\n",
            " [ 3765  1524]]\n",
            "Printing the precision and recall, among other metrics\n",
            "              precision    recall  f1-score   support\n",
            "\n",
            "         0.0       0.91      0.98      0.94     39922\n",
            "         1.0       0.64      0.29      0.40      5289\n",
            "\n",
            "    accuracy                           0.90     45211\n",
            "   macro avg       0.78      0.63      0.67     45211\n",
            "weighted avg       0.88      0.90      0.88     45211\n",
            "\n",
            "[0.66883929 0.65451923 0.63884615 0.61375    0.6725    ]\n"
          ],
          "name": "stdout"
        }
      ]
    },
    {
      "cell_type": "code",
      "metadata": {
        "id": "U2kcpxYdNPTj",
        "colab": {
          "base_uri": "https://localhost:8080/",
          "height": 269
        },
        "outputId": "feca63ec-602e-45bc-f7aa-6ff621600922"
      },
      "source": [
        "# Accuracy for Decision Tree using Grid Search CV for Hyperparameter Tuning\n",
        "\n",
        "print(\"Test Accuracy:\", metrics.accuracy_score(Ytest,dtGrid_predict))\n",
        "print(\"Confusion Matrix for Decision Tree:\")\n",
        "print(confusion_matrix(Ytest,dtGrid_predict))\n",
        "print('Printing the precision and recall, among other metrics')\n",
        "print(metrics.classification_report(Ytest, dtGrid_predict))\n",
        "clf_cv_score = cross_val_score(dtGrid, Xtrain, Ytrain, cv=5, scoring=\"balanced_accuracy\")\n",
        "print(clf_cv_score)"
      ],
      "execution_count": null,
      "outputs": [
        {
          "output_type": "stream",
          "text": [
            "Test Accuracy: 0.8962199464732035\n",
            "Confusion Matrix for Decision Tree:\n",
            "[[38959   963]\n",
            " [ 3729  1560]]\n",
            "Printing the precision and recall, among other metrics\n",
            "              precision    recall  f1-score   support\n",
            "\n",
            "         0.0       0.91      0.98      0.94     39922\n",
            "         1.0       0.62      0.29      0.40      5289\n",
            "\n",
            "    accuracy                           0.90     45211\n",
            "   macro avg       0.77      0.64      0.67     45211\n",
            "weighted avg       0.88      0.90      0.88     45211\n",
            "\n",
            "[0.67133929 0.65264423 0.62336538 0.62629808 0.65639423]\n"
          ],
          "name": "stdout"
        }
      ]
    },
    {
      "cell_type": "code",
      "metadata": {
        "id": "MoZ-aq5Kp0SL",
        "colab": {
          "base_uri": "https://localhost:8080/",
          "height": 101
        },
        "outputId": "bbc1c973-7ffe-43f8-8532-ab0eee6b3994"
      },
      "source": [
        "# Accuracy for Decision Tree using Grid Search for Hyperparameter Tuning\n",
        "\n",
        "print(\"Test Accuracy:\", metrics.accuracy_score(Ytest,dtGrid_predict))\n",
        "print(\"Confusion Matrix for Decision Tree:\")\n",
        "print(confusion_matrix(Ytest,dtGrid_predict))\n",
        "print('Printing the precision and recall, among other metrics')"
      ],
      "execution_count": null,
      "outputs": [
        {
          "output_type": "stream",
          "text": [
            "Test Accuracy: 0.8962199464732035\n",
            "Confusion Matrix for Decision Tree:\n",
            "[[38959   963]\n",
            " [ 3729  1560]]\n",
            "Printing the precision and recall, among other metrics\n"
          ],
          "name": "stdout"
        }
      ]
    },
    {
      "cell_type": "code",
      "metadata": {
        "id": "6GbRCgePp0bk"
      },
      "source": [
        ""
      ],
      "execution_count": null,
      "outputs": []
    },
    {
      "cell_type": "markdown",
      "metadata": {
        "id": "EuvBD_hQp4Y4"
      },
      "source": [
        "Random Forest: Random & Grid Search"
      ]
    },
    {
      "cell_type": "code",
      "metadata": {
        "id": "rk4SasKCp0kt",
        "colab": {
          "base_uri": "https://localhost:8080/",
          "height": 84
        },
        "outputId": "65715922-2bb0-4332-c2f5-d1dac099bb65"
      },
      "source": [
        "#Hyperparameter tuning done for random forest classifier\n",
        "\n",
        "#RANDOM SEARCH--------------------------------------------\n",
        "\n",
        "import time\n",
        "start_time = time.time()\n",
        "\n",
        "print(\"RandomizedSearchCV-Random forest\")\n",
        "rand_parameters={'min_samples_leaf' : range(10,100,10),'max_depth': \n",
        "            range(1,10,2),'max_features':[10,20,30],'n_estimators':[20,30,40]}\n",
        "rf_random = RandomizedSearchCV(rf,rand_parameters,n_iter=25,cv=5)\n",
        "rf_random.fit(Xtrain, Ytrain)\n",
        "grid_parm=rf_random.best_params_\n",
        "print(grid_parm)\n",
        "print(\"accuracy Score for Decision Tree:{0:6f}\".\n",
        "      format(rf_random.score(Xtest,Ytest)))\n",
        "\n",
        "print(\"--- %s seconds ---\" % (time.time() - start_time))"
      ],
      "execution_count": null,
      "outputs": [
        {
          "output_type": "stream",
          "text": [
            "RandomizedSearchCV-Random forest\n",
            "{'n_estimators': 30, 'min_samples_leaf': 30, 'max_features': 20, 'max_depth': 9}\n",
            "accuracy Score for Decision Tree:0.901042\n",
            "--- 14.800294876098633 seconds ---\n"
          ],
          "name": "stdout"
        }
      ]
    },
    {
      "cell_type": "code",
      "metadata": {
        "id": "3KuuL8qBp0nH",
        "colab": {
          "base_uri": "https://localhost:8080/",
          "height": 84
        },
        "outputId": "fb7adbb3-499a-41a3-a046-3c360335ac59"
      },
      "source": [
        "import time\n",
        "start_time = time.time()\n",
        "\n",
        "print(\"GridSearchCV-Random Forest\")\n",
        "rf_grid = GridSearchCV(rf,rand_parameters)\n",
        "rf_grid.fit(Xtrain, Ytrain)\n",
        "grid_parm1=rf_grid.best_params_\n",
        "print(grid_parm1)\n",
        "print(\"accuracy Score for Decision Tree:{0:6f}\".\n",
        "      format(rf_grid.score(Xtest,Ytest)))\n",
        "\n",
        "print(\"--- %s seconds ---\" % (time.time() - start_time))"
      ],
      "execution_count": null,
      "outputs": [
        {
          "output_type": "stream",
          "text": [
            "GridSearchCV-Random Forest\n",
            "{'max_depth': 5, 'max_features': 20, 'min_samples_leaf': 10, 'n_estimators': 20}\n",
            "accuracy Score for Decision Tree:0.901882\n",
            "--- 224.64285373687744 seconds ---\n"
          ],
          "name": "stdout"
        }
      ]
    },
    {
      "cell_type": "code",
      "metadata": {
        "id": "k9BNDnGnp0qq"
      },
      "source": [
        "#Using the parameters obtained from HyperParameterTuning in the RandomForestClassifier \n",
        "rfRand = RandomForestClassifier(**grid_parm)\n",
        "rfGrid = RandomForestClassifier(**grid_parm1)\n",
        "\n",
        "rfRand.fit(Xtrain,Ytrain)\n",
        "rfRand_predict = rfRand.predict(Xtest)\n",
        "rfGrid.fit(Xtrain,Ytrain)\n",
        "rfGrid_predict = rfGrid.predict(Xtest)"
      ],
      "execution_count": null,
      "outputs": []
    },
    {
      "cell_type": "code",
      "metadata": {
        "id": "6c_c4gbJp0tF",
        "colab": {
          "base_uri": "https://localhost:8080/",
          "height": 269
        },
        "outputId": "42aa4f4f-1305-4cf3-fae8-2d43119f50ba"
      },
      "source": [
        "# Accuracy for Random Forest using Random Search CV for Hyperparameter Tuning\n",
        "\n",
        "print(\"Test Accuracy:\", metrics.accuracy_score(Ytest,rfRand_predict))\n",
        "print(\"Confusion Matrix for Decision Tree:\")\n",
        "print(confusion_matrix(Ytest,rfRand_predict))\n",
        "print('Printing the precision and recall, among other metrics')\n",
        "print(metrics.classification_report(Ytest, rfRand_predict))\n",
        "clf_cv_score = cross_val_score(rfRand, Xtrain, Ytrain, cv=5, scoring=\"balanced_accuracy\")\n",
        "print(clf_cv_score)"
      ],
      "execution_count": null,
      "outputs": [
        {
          "output_type": "stream",
          "text": [
            "Test Accuracy: 0.8999358563181526\n",
            "Confusion Matrix for Decision Tree:\n",
            "[[39154   768]\n",
            " [ 3756  1533]]\n",
            "Printing the precision and recall, among other metrics\n",
            "              precision    recall  f1-score   support\n",
            "\n",
            "         0.0       0.91      0.98      0.95     39922\n",
            "         1.0       0.67      0.29      0.40      5289\n",
            "\n",
            "    accuracy                           0.90     45211\n",
            "   macro avg       0.79      0.64      0.67     45211\n",
            "weighted avg       0.88      0.90      0.88     45211\n",
            "\n",
            "[0.64113095 0.62211538 0.63067308 0.61206731 0.60725962]\n"
          ],
          "name": "stdout"
        }
      ]
    },
    {
      "cell_type": "code",
      "metadata": {
        "id": "_zw8qFU_NcYz",
        "colab": {
          "base_uri": "https://localhost:8080/",
          "height": 269
        },
        "outputId": "3d8e00f5-69bd-4c14-e79f-63b24b72b2e5"
      },
      "source": [
        "# Accuracy for Decision Tree using Grid Search CV for Hyperparameter Tuning\n",
        "\n",
        "print(\"Test Accuracy:\", metrics.accuracy_score(Ytest,rfGrid_predict))\n",
        "print(\"Confusion Matrix for Decision Tree:\")\n",
        "print(confusion_matrix(Ytest,rfGrid_predict))\n",
        "print('Printing the precision and recall, among other metrics')\n",
        "print(metrics.classification_report(Ytest, rfGrid_predict))\n",
        "clf_cv_score = cross_val_score(rfGrid, Xtrain, Ytrain, cv=5, scoring=\"balanced_accuracy\")\n",
        "print(clf_cv_score)"
      ],
      "execution_count": null,
      "outputs": [
        {
          "output_type": "stream",
          "text": [
            "Test Accuracy: 0.9009754263342992\n",
            "Confusion Matrix for Decision Tree:\n",
            "[[38999   923]\n",
            " [ 3554  1735]]\n",
            "Printing the precision and recall, among other metrics\n",
            "              precision    recall  f1-score   support\n",
            "\n",
            "         0.0       0.92      0.98      0.95     39922\n",
            "         1.0       0.65      0.33      0.44      5289\n",
            "\n",
            "    accuracy                           0.90     45211\n",
            "   macro avg       0.78      0.65      0.69     45211\n",
            "weighted avg       0.89      0.90      0.89     45211\n",
            "\n",
            "[0.63761905 0.58634615 0.63360577 0.59346154 0.61019231]\n"
          ],
          "name": "stdout"
        }
      ]
    }
  ]
}